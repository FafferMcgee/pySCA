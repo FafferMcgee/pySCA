{
 "cells": [
  {
   "cell_type": "markdown",
   "metadata": {},
   "source": [
    "Download alignment from pfam for ANF_receptor (PF01094) from http://pfam.xfam.org/family/PF01094#tabview=tab3 V34.0.\n",
    "\n",
    "It is saved as the PF01094_full.an following Ranganathan lab formatting. There are some differences though between the files. I believe the alignment files for their notebooks are already annotated when they are downlaoded in the runAllNBCalcs.sh bash script. (there is a not \\_full.an file that has the normal headers from pfam) I need to do this for mine. \n",
    "\n",
    "For every 'chunk' that annotates a protein family there is some line that begins with 'tee' and specifie sthe log file. This enables the outputting of the bash prompt to the file.\n",
    "\n",
    "There is also a getpfamdb.sh file that will download the pfam taxonomy database.\n",
    "\n",
    "But let's skip all the fancy nonsense of pfam annotations and just dive right in. "
   ]
  },
  {
   "cell_type": "code",
   "execution_count": 1,
   "metadata": {},
   "outputs": [],
   "source": [
    "import os\n",
    "import time\n",
    "import matplotlib.pyplot as plt\n",
    "import numpy as np\n",
    "import copy\n",
    "import scipy.cluster.hierarchy as sch\n",
    "from scipy.stats import scoreatpercentile \n",
    "import matplotlib.image as mpimg\n",
    "from IPython.display import display\n",
    "from IPython.display import Image\n",
    "from Bio.Seq import Seq\n",
    "from Bio import motifs\n",
    "import colorsys\n",
    "from pysca import scaTools as sca\n",
    "# import mpld3\n",
    "import pickle as pickle\n",
    "from optparse import OptionParser\n",
    "\n",
    "%matplotlib inline\n",
    "\n",
    "if not os.path.exists('../output/'):\n",
    "    os.makedirs('../output/')  "
   ]
  },
  {
   "cell_type": "markdown",
   "metadata": {},
   "source": [
    "To begin, we read in the results of the above three scripts (scaProcessMSA, scaCore and scaSectorID), stored as three dictionaries in the database PF00071_full.db.  To see what variables are stored in each dictionary, use the command dictionary.keys( ), e.g.:\n",
    "\n",
    "    >>> print Dseq.keys()"
   ]
  },
  {
   "cell_type": "code",
   "execution_count": 3,
   "metadata": {},
   "outputs": [],
   "source": [
    "db = pickle.load(open('../output/PF00071_rd2.db','rb'))\n",
    "Dseq = db['sequence']  #the results of scaProcessMSA\n",
    "Dsca = db['sca']       #the results of scaCore\n",
    "Dsect = db['sector']   #the results of scaSectorID"
   ]
  }
 ],
 "metadata": {
  "kernelspec": {
   "display_name": "Python 3",
   "language": "python",
   "name": "python3"
  },
  "language_info": {
   "codemirror_mode": {
    "name": "ipython",
    "version": 3
   },
   "file_extension": ".py",
   "mimetype": "text/x-python",
   "name": "python",
   "nbconvert_exporter": "python",
   "pygments_lexer": "ipython3",
   "version": "3.8.3"
  }
 },
 "nbformat": 4,
 "nbformat_minor": 4
}
